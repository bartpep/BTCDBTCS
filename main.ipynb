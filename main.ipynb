{
 "cells": [
  {
   "cell_type": "code",
   "execution_count": 1,
   "metadata": {},
   "outputs": [],
   "source": [
    "# Load libraries and files\n",
    "import pandas as pd\n",
    "import seaborn as sns\n",
    "import matplotlib.pyplot as plt\n",
    "\n",
    "# Local files\n",
    "import load_api as api\n",
    "\n",
    "# Set standards\n",
    "sns.set(style=\"whitegrid\")"
   ]
  },
  {
   "cell_type": "code",
   "execution_count": 2,
   "metadata": {},
   "outputs": [
    {
     "data": {
      "text/html": [
       "<div>\n",
       "<style scoped>\n",
       "    .dataframe tbody tr th:only-of-type {\n",
       "        vertical-align: middle;\n",
       "    }\n",
       "\n",
       "    .dataframe tbody tr th {\n",
       "        vertical-align: top;\n",
       "    }\n",
       "\n",
       "    .dataframe thead th {\n",
       "        text-align: right;\n",
       "    }\n",
       "</style>\n",
       "<table border=\"1\" class=\"dataframe\">\n",
       "  <thead>\n",
       "    <tr style=\"text-align: right;\">\n",
       "      <th></th>\n",
       "      <th>Open</th>\n",
       "      <th>High</th>\n",
       "      <th>Low</th>\n",
       "      <th>Close</th>\n",
       "      <th>Adj Close</th>\n",
       "      <th>Volume</th>\n",
       "    </tr>\n",
       "  </thead>\n",
       "  <tbody>\n",
       "    <tr>\n",
       "      <th>count</th>\n",
       "      <td>365.000000</td>\n",
       "      <td>365.000000</td>\n",
       "      <td>365.000000</td>\n",
       "      <td>365.000000</td>\n",
       "      <td>365.000000</td>\n",
       "      <td>3.650000e+02</td>\n",
       "    </tr>\n",
       "    <tr>\n",
       "      <th>mean</th>\n",
       "      <td>0.999896</td>\n",
       "      <td>1.000560</td>\n",
       "      <td>0.999061</td>\n",
       "      <td>0.999918</td>\n",
       "      <td>0.999918</td>\n",
       "      <td>4.120233e+09</td>\n",
       "    </tr>\n",
       "    <tr>\n",
       "      <th>std</th>\n",
       "      <td>0.001735</td>\n",
       "      <td>0.000401</td>\n",
       "      <td>0.006990</td>\n",
       "      <td>0.001565</td>\n",
       "      <td>0.001565</td>\n",
       "      <td>2.125912e+09</td>\n",
       "    </tr>\n",
       "    <tr>\n",
       "      <th>min</th>\n",
       "      <td>0.968300</td>\n",
       "      <td>0.995425</td>\n",
       "      <td>0.877400</td>\n",
       "      <td>0.971500</td>\n",
       "      <td>0.971500</td>\n",
       "      <td>1.036839e+09</td>\n",
       "    </tr>\n",
       "    <tr>\n",
       "      <th>25%</th>\n",
       "      <td>0.999949</td>\n",
       "      <td>1.000385</td>\n",
       "      <td>0.999477</td>\n",
       "      <td>0.999953</td>\n",
       "      <td>0.999953</td>\n",
       "      <td>2.747711e+09</td>\n",
       "    </tr>\n",
       "    <tr>\n",
       "      <th>50%</th>\n",
       "      <td>1.000025</td>\n",
       "      <td>1.000544</td>\n",
       "      <td>0.999661</td>\n",
       "      <td>1.000030</td>\n",
       "      <td>1.000030</td>\n",
       "      <td>3.630878e+09</td>\n",
       "    </tr>\n",
       "    <tr>\n",
       "      <th>75%</th>\n",
       "      <td>1.000115</td>\n",
       "      <td>1.000727</td>\n",
       "      <td>0.999796</td>\n",
       "      <td>1.000123</td>\n",
       "      <td>1.000123</td>\n",
       "      <td>5.087373e+09</td>\n",
       "    </tr>\n",
       "    <tr>\n",
       "      <th>max</th>\n",
       "      <td>1.000660</td>\n",
       "      <td>1.002967</td>\n",
       "      <td>0.999979</td>\n",
       "      <td>1.000751</td>\n",
       "      <td>1.000751</td>\n",
       "      <td>2.668221e+10</td>\n",
       "    </tr>\n",
       "  </tbody>\n",
       "</table>\n",
       "</div>"
      ],
      "text/plain": [
       "             Open        High         Low       Close   Adj Close  \\\n",
       "count  365.000000  365.000000  365.000000  365.000000  365.000000   \n",
       "mean     0.999896    1.000560    0.999061    0.999918    0.999918   \n",
       "std      0.001735    0.000401    0.006990    0.001565    0.001565   \n",
       "min      0.968300    0.995425    0.877400    0.971500    0.971500   \n",
       "25%      0.999949    1.000385    0.999477    0.999953    0.999953   \n",
       "50%      1.000025    1.000544    0.999661    1.000030    1.000030   \n",
       "75%      1.000115    1.000727    0.999796    1.000123    1.000123   \n",
       "max      1.000660    1.002967    0.999979    1.000751    1.000751   \n",
       "\n",
       "             Volume  \n",
       "count  3.650000e+02  \n",
       "mean   4.120233e+09  \n",
       "std    2.125912e+09  \n",
       "min    1.036839e+09  \n",
       "25%    2.747711e+09  \n",
       "50%    3.630878e+09  \n",
       "75%    5.087373e+09  \n",
       "max    2.668221e+10  "
      ]
     },
     "execution_count": 2,
     "metadata": {},
     "output_type": "execute_result"
    }
   ],
   "source": [
    "# Read yahoo data 28-feb-2023 to 28-feb-2024\n",
    "usdc = pd.read_csv('data/USDC-USD.csv')\n",
    "usdt = pd.read_csv('data/USDT-USD.csv')\n",
    "\n",
    "usdc.describe()\n"
   ]
  },
  {
   "cell_type": "code",
   "execution_count": 3,
   "metadata": {},
   "outputs": [
    {
     "data": {
      "text/html": [
       "<div>\n",
       "<style scoped>\n",
       "    .dataframe tbody tr th:only-of-type {\n",
       "        vertical-align: middle;\n",
       "    }\n",
       "\n",
       "    .dataframe tbody tr th {\n",
       "        vertical-align: top;\n",
       "    }\n",
       "\n",
       "    .dataframe thead th {\n",
       "        text-align: right;\n",
       "    }\n",
       "</style>\n",
       "<table border=\"1\" class=\"dataframe\">\n",
       "  <thead>\n",
       "    <tr style=\"text-align: right;\">\n",
       "      <th></th>\n",
       "      <th>Open</th>\n",
       "      <th>High</th>\n",
       "      <th>Low</th>\n",
       "      <th>Close</th>\n",
       "      <th>Adj Close</th>\n",
       "      <th>Volume</th>\n",
       "    </tr>\n",
       "  </thead>\n",
       "  <tbody>\n",
       "    <tr>\n",
       "      <th>count</th>\n",
       "      <td>365.000000</td>\n",
       "      <td>365.000000</td>\n",
       "      <td>365.000000</td>\n",
       "      <td>365.000000</td>\n",
       "      <td>365.000000</td>\n",
       "      <td>3.650000e+02</td>\n",
       "    </tr>\n",
       "    <tr>\n",
       "      <th>mean</th>\n",
       "      <td>1.000241</td>\n",
       "      <td>1.000962</td>\n",
       "      <td>0.999665</td>\n",
       "      <td>1.000251</td>\n",
       "      <td>1.000251</td>\n",
       "      <td>3.208781e+10</td>\n",
       "    </tr>\n",
       "    <tr>\n",
       "      <th>std</th>\n",
       "      <td>0.000837</td>\n",
       "      <td>0.001943</td>\n",
       "      <td>0.000662</td>\n",
       "      <td>0.000828</td>\n",
       "      <td>0.000828</td>\n",
       "      <td>1.512171e+10</td>\n",
       "    </tr>\n",
       "    <tr>\n",
       "      <th>min</th>\n",
       "      <td>0.998295</td>\n",
       "      <td>0.999229</td>\n",
       "      <td>0.995761</td>\n",
       "      <td>0.998382</td>\n",
       "      <td>0.998382</td>\n",
       "      <td>9.989859e+09</td>\n",
       "    </tr>\n",
       "    <tr>\n",
       "      <th>25%</th>\n",
       "      <td>0.999950</td>\n",
       "      <td>1.000487</td>\n",
       "      <td>0.999406</td>\n",
       "      <td>0.999965</td>\n",
       "      <td>0.999965</td>\n",
       "      <td>2.068569e+10</td>\n",
       "    </tr>\n",
       "    <tr>\n",
       "      <th>50%</th>\n",
       "      <td>1.000173</td>\n",
       "      <td>1.000745</td>\n",
       "      <td>0.999715</td>\n",
       "      <td>1.000174</td>\n",
       "      <td>1.000174</td>\n",
       "      <td>2.876351e+10</td>\n",
       "    </tr>\n",
       "    <tr>\n",
       "      <th>75%</th>\n",
       "      <td>1.000428</td>\n",
       "      <td>1.000980</td>\n",
       "      <td>0.999935</td>\n",
       "      <td>1.000434</td>\n",
       "      <td>1.000434</td>\n",
       "      <td>4.060030e+10</td>\n",
       "    </tr>\n",
       "    <tr>\n",
       "      <th>max</th>\n",
       "      <td>1.007690</td>\n",
       "      <td>1.029628</td>\n",
       "      <td>1.005939</td>\n",
       "      <td>1.007690</td>\n",
       "      <td>1.007690</td>\n",
       "      <td>8.766351e+10</td>\n",
       "    </tr>\n",
       "  </tbody>\n",
       "</table>\n",
       "</div>"
      ],
      "text/plain": [
       "             Open        High         Low       Close   Adj Close  \\\n",
       "count  365.000000  365.000000  365.000000  365.000000  365.000000   \n",
       "mean     1.000241    1.000962    0.999665    1.000251    1.000251   \n",
       "std      0.000837    0.001943    0.000662    0.000828    0.000828   \n",
       "min      0.998295    0.999229    0.995761    0.998382    0.998382   \n",
       "25%      0.999950    1.000487    0.999406    0.999965    0.999965   \n",
       "50%      1.000173    1.000745    0.999715    1.000174    1.000174   \n",
       "75%      1.000428    1.000980    0.999935    1.000434    1.000434   \n",
       "max      1.007690    1.029628    1.005939    1.007690    1.007690   \n",
       "\n",
       "             Volume  \n",
       "count  3.650000e+02  \n",
       "mean   3.208781e+10  \n",
       "std    1.512171e+10  \n",
       "min    9.989859e+09  \n",
       "25%    2.068569e+10  \n",
       "50%    2.876351e+10  \n",
       "75%    4.060030e+10  \n",
       "max    8.766351e+10  "
      ]
     },
     "execution_count": 3,
     "metadata": {},
     "output_type": "execute_result"
    }
   ],
   "source": [
    "usdt.describe()"
   ]
  },
  {
   "cell_type": "code",
   "execution_count": 4,
   "metadata": {},
   "outputs": [],
   "source": [
    "usdc.sort_values(by=\"Close\", ascending=True).head(10)\n",
    "usdc[usdc[\"Close\"] == usdc[\"Close\"].min()] = .992"
   ]
  },
  {
   "cell_type": "code",
   "execution_count": 5,
   "metadata": {},
   "outputs": [
    {
     "data": {
      "image/png": "[encoded data removed]",
      "text/plain": [
       "<Figure size 640x480 with 1 Axes>"
      ]
     },
     "metadata": {},
     "output_type": "display_data"
    }
   ],
   "source": [
    "# Visualize the differences to USD\n",
    "# The x limited has been set to 0.9995 to 1.005 to see the most frequent differences\n",
    "# Some outliers have been cut off as a result\n",
    "\n",
    "\n",
    "sns.histplot(usdc['Close'], bins=100, color='b', label='USDC')\n",
    "sns.histplot(usdt['Close'], bins=100, color='r', label='USDT')\n",
    "\n",
    "plt.title('USDC vs USDT')\n",
    "plt.xlabel('Price')\n",
    "plt.ylabel('Frequency')\n",
    "plt.legend()\n",
    "plt.show()"
   ]
  },
  {
   "cell_type": "code",
   "execution_count": 6,
   "metadata": {},
   "outputs": [
    {
     "data": {
      "image/png": "[encoded data removed]",
      "text/plain": [
       "<Figure size 640x480 with 1 Axes>"
      ]
     },
     "metadata": {},
     "output_type": "display_data"
    }
   ],
   "source": [
    "# Merge the USDC and USDT dataframes\n",
    "usdc_usdt = usdc.merge(usdt, on='Date', suffixes=('_USDC', '_USDT'))\n",
    "usdc_usdt['Difference'] = usdc_usdt['Close_USDC'] - usdc_usdt['Close_USDT']\n",
    "\n",
    "\n",
    "# Visualize the differences between USDC and USDT\n",
    "sns.histplot(usdc_usdt['Difference'], bins=100, color='g')\n",
    "plt.title('USDC USDT difference')\n",
    "plt.xlabel('Difference')\n",
    "plt.ylabel('Frequency')\n",
    "plt.show()\n",
    "\n",
    "# To be a profitable trade, the difference should be greater than 0.001 or less than -0.001\n",
    "# This is because the transaction fees are 0.1%\n",
    "txn_cost = 0.001\n",
    "profitable = usdc_usdt[(usdc_usdt['Difference'] > txn_cost) | (usdc_usdt['Difference'] < -txn_cost)]"
   ]
  },
  {
   "cell_type": "code",
   "execution_count": 8,
   "metadata": {},
   "outputs": [
    {
     "data": {
      "image/png": "[encoded data removed]",
      "text/plain": [
       "<Figure size 640x480 with 1 Axes>"
      ]
     },
     "metadata": {},
     "output_type": "display_data"
    },
    {
     "name": "stdout",
     "output_type": "stream",
     "text": [
      "Number of positive trades: 33\n"
     ]
    }
   ],
   "source": [
    "\n",
    "# Calculate the profit per trade\n",
    "profitable = profitable[['Date', 'Difference']]\n",
    "profitable[\"profit\"] = (profitable['Difference'].abs()-txn_cost)\n",
    "\n",
    "# Visualize the profitable trades\n",
    "sns.histplot(profitable['profit'], bins=10, color='g')\n",
    "plt.title('Profitable trades')\n",
    "plt.show()\n",
    "\n",
    "print(\"Number of positive trades:\", profitable.shape[0])"
   ]
  }
 ],
 "metadata": {
  "kernelspec": {
   "display_name": ".venv",
   "language": "python",
   "name": "python3"
  },
  "language_info": {
   "codemirror_mode": {
    "name": "ipython",
    "version": 3
   },
   "file_extension": ".py",
   "mimetype": "text/x-python",
   "name": "python",
   "nbconvert_exporter": "python",
   "pygments_lexer": "ipython3",
   "version": "3.12.2"
  }
 },
 "nbformat": 4,
 "nbformat_minor": 2
}
